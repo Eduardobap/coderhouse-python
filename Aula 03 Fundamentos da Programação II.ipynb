{
 "cells": [
  {
   "cell_type": "markdown",
   "metadata": {},
   "source": [
    "# Fundamentos da Programação II\n",
    "\n",
    "## Revisando a aula anterior...\n",
    "\n",
    "Listas, Dicionários, Tuplas e Sets (Conjuntos)"
   ]
  },
  {
   "cell_type": "code",
   "execution_count": null,
   "metadata": {},
   "outputs": [],
   "source": [
    "lista = [1, 2, 2, \"Ramon\", \"Bezerra\"] # posso repetir, alterar e adicionar\n",
    "\n",
    "dicionario = {\"chave1\":\"valor1\", 20: \"valor2\", \"chave3\":\"valor1\"} # posso acessar por chave única para cada valor\n",
    "\n",
    "tupla = (1, 2, 2, \"Ramon\", \"Bezerra\") # posso repetir, mas não posso alterar e adicionar\n",
    "\n",
    "set = {1, 2, \"Ramon\", \"Bezerra\"} # não posso repetir, mas posso alterar e adicionar"
   ]
  },
  {
   "cell_type": "markdown",
   "metadata": {},
   "source": [
    "Ainda é possível ter listas de listas (também conhecido como matrizes), que vão ser úteis em nossas análises:"
   ]
  },
  {
   "cell_type": "code",
   "execution_count": null,
   "metadata": {},
   "outputs": [],
   "source": [
    "matriz = [[1, 2, 3], [4, 5, 6], [7, 8, 9]]\n",
    "matriz_de_tuplas = [(1, 2, 3), (4, 5, 6), (7, 8, 9)]\n",
    "\n",
    "print(matriz[0][2])\n",
    "print(matriz_de_tuplas[0][2])"
   ]
  },
  {
   "cell_type": "markdown",
   "metadata": {},
   "source": [
    "Faça um programa que crie uma lista com 5 frutas e permita que o usuário digite o nome de uma fruta. Se for uma fruta repetida deverá ser desconsiderada."
   ]
  },
  {
   "cell_type": "code",
   "execution_count": 1,
   "metadata": {},
   "outputs": [
    {
     "name": "stdout",
     "output_type": "stream",
     "text": [
      "{'Banana', 'Kiwi', 'Maça', 'Pera', 'Abacaxi'}\n"
     ]
    }
   ],
   "source": [
    "# solução\n",
    "\n",
    "lista = {\"Banana\", \"Pera\", \"Maça\", \"Abacaxi\", \"Kiwi\"}\n",
    "\n",
    "fruta = input(\"Digite uma fruta...\")\n",
    "\n",
    "lista.add(fruta)\n",
    "\n",
    "print(lista)"
   ]
  },
  {
   "cell_type": "markdown",
   "metadata": {},
   "source": [
    "Faça um programa que peça ao usuário para digitar uma frase e substitua todas as vogais por asteriscos (*)."
   ]
  },
  {
   "cell_type": "code",
   "execution_count": 3,
   "metadata": {},
   "outputs": [
    {
     "name": "stdout",
     "output_type": "stream",
     "text": [
      "b*m-v*nd* * **l*\n"
     ]
    }
   ],
   "source": [
    "# solução\n",
    "\n",
    "frase = input(\"Digite uma frase qualquer...\")\n",
    "\n",
    "nova_frase = frase.replace(\"a\", \"*\").replace(\"e\", \"*\").replace(\"i\", \"*\").replace(\"o\", \"*\").replace(\"u\", \"*\")\n",
    "\n",
    "print(nova_frase)"
   ]
  },
  {
   "cell_type": "code",
   "execution_count": 7,
   "metadata": {},
   "outputs": [
    {
     "name": "stdout",
     "output_type": "stream",
     "text": [
      "x é 5\n"
     ]
    }
   ],
   "source": [
    "x = 5\n",
    "if x == 5:\n",
    "    print(\"x é 5\")"
   ]
  },
  {
   "cell_type": "markdown",
   "metadata": {},
   "source": [
    "## Adicionando fluxos alternativos ao código\n",
    "\n",
    "Se quisermos avaliar a aprovação ou reprovação de um aluno, com base na média 7,0: "
   ]
  },
  {
   "cell_type": "code",
   "execution_count": 11,
   "metadata": {},
   "outputs": [
    {
     "name": "stdout",
     "output_type": "stream",
     "text": [
      "Aprovado\n"
     ]
    }
   ],
   "source": [
    "# solução\n",
    "media_1 = int(input(\"Digite a media do bimestre 1: \"))\n",
    "media_2 = int(input(\"Digite a media do bimestre 2: \"))\n",
    "media_3 = int(input(\"Digite a media do bimestre 3: \"))\n",
    "media_4 = int(input(\"Digite a media do bimestre 4: \"))\n",
    "\n",
    "media_final = (media_1 + media_2 + media_3 + media_4) / 4\n",
    "\n",
    "if media_final >= 7:\n",
    "    print(\"Aprovado\")\n",
    "else:\n",
    "    print(\"Reprovado\")"
   ]
  },
  {
   "cell_type": "markdown",
   "metadata": {},
   "source": [
    "Podemos adicionar uma condição que diz se o aluno foi aprovado com distinção (média 10):"
   ]
  },
  {
   "cell_type": "code",
   "execution_count": 12,
   "metadata": {},
   "outputs": [
    {
     "name": "stdout",
     "output_type": "stream",
     "text": [
      "Aprovado com Distinção\n"
     ]
    }
   ],
   "source": [
    "# solução\n",
    "\n",
    "media_1 = int(input(\"Digite a media do bimestre 1: \"))\n",
    "media_2 = int(input(\"Digite a media do bimestre 2: \"))\n",
    "media_3 = int(input(\"Digite a media do bimestre 3: \"))\n",
    "media_4 = int(input(\"Digite a media do bimestre 4: \"))\n",
    "\n",
    "media_final = (media_1 + media_2 + media_3 + media_4) / 4\n",
    "\n",
    "if media_final == 10:\n",
    "    print(\"Aprovado com Distinção\")\n",
    "elif media_final >= 7 and media_final < 10:\n",
    "    print(\"Aprovado\")\n",
    "else:\n",
    "    print(\"Reprovado\")"
   ]
  },
  {
   "cell_type": "markdown",
   "metadata": {},
   "source": [
    "E ainda avaliar se o aluno foi para a final (pelo menos alcançando média 4,0):"
   ]
  },
  {
   "cell_type": "code",
   "execution_count": 10,
   "metadata": {},
   "outputs": [
    {
     "name": "stdout",
     "output_type": "stream",
     "text": [
      "Prova Final\n"
     ]
    }
   ],
   "source": [
    "# solução\n",
    "\n",
    "media_1 = int(input(\"Digite a media do bimestre 1: \"))\n",
    "media_2 = int(input(\"Digite a media do bimestre 2: \"))\n",
    "media_3 = int(input(\"Digite a media do bimestre 3: \"))\n",
    "media_4 = int(input(\"Digite a media do bimestre 4: \"))\n",
    "\n",
    "media_final = (media_1 + media_2 + media_3 + media_4) / 4\n",
    "\n",
    "if media_final == 10:\n",
    "    print(\"Aprovado com Distinção\")\n",
    "elif media_final >= 7 and media_final < 10:\n",
    "    print(\"Aprovado\")\n",
    "elif media_final >= 4 and media_final < 7:    \n",
    "    print(\"Prova Final\")\n",
    "else:\n",
    "    print(\"Reprovado\")"
   ]
  },
  {
   "cell_type": "markdown",
   "metadata": {},
   "source": [
    "## Usando repetições\n",
    "\n",
    "Caso fosse necessário avaliar a situação de muitos alunos:"
   ]
  },
  {
   "cell_type": "code",
   "execution_count": null,
   "metadata": {},
   "outputs": [],
   "source": [
    "# solução\n",
    "controle = int(input(\"Digite 1 para calcular média ou 0 para sair\"))\n",
    "\n",
    "while controle != 0:\n",
    "    media_1 = int(input(\"Digite a media do bimestre 1: \"))\n",
    "    media_2 = int(input(\"Digite a media do bimestre 2: \"))\n",
    "    media_3 = int(input(\"Digite a media do bimestre 3: \"))\n",
    "    media_4 = int(input(\"Digite a media do bimestre 4: \"))\n",
    "\n",
    "    media_final = (media_1 + media_2 + media_3 + media_4) / 4\n",
    "\n",
    "    if media_final == 10:\n",
    "        print(\"Aprovado com Distinção\")\n",
    "    elif media_final >= 7 and media_final < 10:\n",
    "        print(\"Aprovado\")\n",
    "    elif media_final >= 4 and media_final < 7:    \n",
    "        print(\"Prova Final\")\n",
    "    else:\n",
    "        print(\"Reprovado\")\n",
    "\n",
    "    # atualizar a variavel de controle \n",
    "    controle = int(input(\"Digite 1 para calcular média ou 0 para sair\"))"
   ]
  },
  {
   "cell_type": "markdown",
   "metadata": {},
   "source": [
    "E se precisarmos avaliar apenas a situação de 10 alunos?"
   ]
  },
  {
   "cell_type": "code",
   "execution_count": null,
   "metadata": {},
   "outputs": [],
   "source": [
    "# solução\n",
    "lista_repeticoes = [0,1,2,3,4,5,6,7,8,9]:\n",
    "for controle in range(len(lista_repeticoes), 6, 2):\n",
    "    media_1 = int(input(\"Digite a media do bimestre 1: \"))\n",
    "    media_2 = int(input(\"Digite a media do bimestre 2: \"))\n",
    "    media_3 = int(input(\"Digite a media do bimestre 3: \"))\n",
    "    media_4 = int(input(\"Digite a media do bimestre 4: \"))\n",
    "\n",
    "    media_final = (media_1 + media_2 + media_3 + media_4) / 4\n",
    "\n",
    "    if media_final == 10:\n",
    "        print(\"Aprovado com Distinção\")\n",
    "    elif media_final >= 7 and media_final < 10:\n",
    "        print(\"Aprovado\")\n",
    "    elif media_final >= 4 and media_final < 7:    \n",
    "        print(\"Prova Final\")\n",
    "    else:\n",
    "        print(\"Reprovado\")\n"
   ]
  },
  {
   "cell_type": "markdown",
   "metadata": {},
   "source": [
    "Caso esses alunos já estivessem em uma lista, poderíamos deixar a saída mais elegante:"
   ]
  },
  {
   "cell_type": "code",
   "execution_count": null,
   "metadata": {},
   "outputs": [],
   "source": [
    "# solução\n",
    "lista_alunos = [\"Ramon\", \"Luisa\", \"Andre\", \"Joaozinho\", \"Mariazinha\"]\n",
    "for controle in range(len(lista_repeticoes), 6, 2):\n",
    "    media_1 = int(input(\"Digite a media do bimestre 1: \"))\n",
    "    media_2 = int(input(\"Digite a media do bimestre 2: \"))\n",
    "    media_3 = int(input(\"Digite a media do bimestre 3: \"))\n",
    "    media_4 = int(input(\"Digite a media do bimestre 4: \"))\n",
    "\n",
    "    media_final = (media_1 + media_2 + media_3 + media_4) / 4\n",
    "\n",
    "    if media_final == 10:\n",
    "        print(\"Aprovado com Distinção\")\n",
    "    elif media_final >= 7 and media_final < 10:\n",
    "        print(\"Aprovado\")\n",
    "    elif media_final >= 4 and media_final < 7:    \n",
    "        print(\"Prova Final\")\n",
    "    else:\n",
    "        print(\"Reprovado\")"
   ]
  },
  {
   "cell_type": "markdown",
   "metadata": {},
   "source": [
    "Recomendo esse material de apoio: [Programático - Ideal para quem ainda não sabe programação](https://programatico.com.br/)"
   ]
  },
  {
   "cell_type": "code",
   "execution_count": 14,
   "metadata": {},
   "outputs": [
    {
     "name": "stdout",
     "output_type": "stream",
     "text": [
      "Impar\n"
     ]
    }
   ],
   "source": [
    "numero = int(input(\"Digite um numero\"))\n",
    "\n",
    "if numero % 2 == 0:\n",
    "    print(\"Par\")\n",
    "else:\n",
    "    print(\"Impar\")"
   ]
  },
  {
   "cell_type": "code",
   "execution_count": 16,
   "metadata": {},
   "outputs": [
    {
     "name": "stdout",
     "output_type": "stream",
     "text": [
      "A palavra bem-vindos tem 10 letras\n",
      "A palavra a tem 1 letras\n",
      "A palavra coderhouse tem 10 letras\n"
     ]
    }
   ],
   "source": [
    "frase = input(\"Escreva uma frase...\")\n",
    "lista_palavras = frase.split(\" \")\n",
    "\n",
    "for i in range(len(lista_palavras)):\n",
    "    print(f\"A palavra {lista_palavras[i]} tem {len(lista_palavras[i])} letras\" )\n",
    "    "
   ]
  },
  {
   "cell_type": "code",
   "execution_count": 17,
   "metadata": {},
   "outputs": [
    {
     "name": "stdout",
     "output_type": "stream",
     "text": [
      "Senha incorreta! Tente novamente.\n",
      "Senha incorreta! Tente novamente.\n",
      "Senha correta! Acesso permitido.\n"
     ]
    }
   ],
   "source": [
    "senha_correta = \"1234\"\n",
    "senha = input(\"Digite a senha de 4 dígitos:\")\n",
    "\n",
    "while senha != senha_correta:\n",
    "    senha_incorreta = input(\"Digite a senha de 4 dígitos:\")\n",
    "\n",
    "    if senha == senha_correta:\n",
    "        print(\"Senha correta! Acesso permitido.\")\n",
    "    else:\n",
    "        print(\"Senha incorreta! Tente novamente.\")"
   ]
  },
  {
   "cell_type": "code",
   "execution_count": 20,
   "metadata": {},
   "outputs": [
    {
     "name": "stdout",
     "output_type": "stream",
     "text": [
      "O fatorial de 5 é 120.\n"
     ]
    }
   ],
   "source": [
    "def fatorial(n):\n",
    "    if n < 0:\n",
    "        return \"Fatorial não definido para números negativos.\"\n",
    "    elif n == 0 or n == 1:\n",
    "        return 1\n",
    "    else:\n",
    "        fatorial = 1\n",
    "        for i in range(2, n + 1):\n",
    "            fatorial *= i\n",
    "        return fatorial\n",
    "\n",
    "numero = int(input(\"Digite um número para calcular o fatorial: \"))\n",
    "\n",
    "resultado = fatorial(numero)\n",
    "\n",
    "print(f\"O fatorial de {numero} é {resultado}.\")"
   ]
  },
  {
   "cell_type": "code",
   "execution_count": 24,
   "metadata": {},
   "outputs": [
    {
     "name": "stdout",
     "output_type": "stream",
     "text": [
      "Janeiro: 232\n",
      "Fevereiro: 321\n",
      "Junho: 589\n",
      "Julho: 547\n"
     ]
    }
   ],
   "source": [
    "dados_tabela = {\n",
    "    \"Janeiro\": \"232\",\n",
    "    \"Fevereiro\": \"321\",\n",
    "    \"Junho\": \"589\",\n",
    "    \"Julho\": \"547\"\n",
    "}\n",
    "\n",
    "for Mes, Quantidade in dados_tabela.items():\n",
    "    print(f\"{Mes}: {Quantidade}\")"
   ]
  },
  {
   "cell_type": "markdown",
   "metadata": {},
   "source": [
    "## Desafio\n",
    "\n",
    "Faça um programa que faça 5 perguntas para uma pessoa sobre um crime. As perguntas são:\n",
    "\n",
    "\"Telefonou para a vítima?\"\n",
    "\"Esteve no local do crime?\"\n",
    "\"Mora perto da vítima?\"\n",
    "\"Devia para a vítima?\"\n",
    "\"Já trabalhou com a vítima?\" \n",
    "\n",
    "O programa deve no final emitir uma classificação sobre a participação da pessoa no crime. Se a pessoa responder positivamente a 2 questões ela deve ser classificada como \"Suspeita\", entre 3 e 4 como \"Cúmplice\" e 5 como \"Assassino\". Caso contrário, ele será classificado como \"Inocente\"."
   ]
  },
  {
   "cell_type": "code",
   "execution_count": 28,
   "metadata": {},
   "outputs": [
    {
     "name": "stdout",
     "output_type": "stream",
     "text": [
      "A pessoa foi classificada como: Assassino\n"
     ]
    }
   ],
   "source": [
    "# Lista de perguntas\n",
    "perguntas = [\n",
    "    \"Você telefonou para a vítima?\",\n",
    "    \"Você esteve no local do crime?\",\n",
    "    \"Você mora perto da vítima?\",\n",
    "    \"Você devia para a vítima?\",\n",
    "    \"Você já trabalhou com a vítima?\"\n",
    "]\n",
    "\n",
    "# Contador de respostas positivas\n",
    "respostas_positivas = 0\n",
    "\n",
    "# Iterando sobre cada pergunta e coletando a resposta\n",
    "for pergunta in perguntas:\n",
    "    resposta = input(f\"{pergunta} (sim/não): \").strip().lower()\n",
    "    if resposta == 'sim':\n",
    "        respostas_positivas += 1\n",
    "\n",
    "# Classificação da pessoa\n",
    "if respostas_positivas == 2:\n",
    "    classificacao = \"Suspeita\"\n",
    "elif 3 <= respostas_positivas <= 4:\n",
    "    classificacao = \"Cúmplice\"\n",
    "elif respostas_positivas == 5:\n",
    "    classificacao = \"Assassino\"\n",
    "else:\n",
    "    classificacao = \"Inocente\"\n",
    "\n",
    "# Exibindo a classificação\n",
    "print(f\"A pessoa foi classificada como: {classificacao}\")"
   ]
  },
  {
   "cell_type": "code",
   "execution_count": 5,
   "metadata": {},
   "outputs": [
    {
     "name": "stdout",
     "output_type": "stream",
     "text": [
      "Responda com sim ou não\n",
      "inocente\n"
     ]
    }
   ],
   "source": [
    "perguntas = [\n",
    "    \"Você telefonou para a vítima?\",\n",
    "    \"Você esteve no local do crime?\",\n",
    "    \"Você mora perto da vítima?\",\n",
    "    \"Você devia para a vítima?\",\n",
    "    \"Você já trabalhou com a vítima?\"\n",
    "]\n",
    "\n",
    "resposta_sim = 0\n",
    "\n",
    "print(\"Responda com sim ou não\")\n",
    "\n",
    "for i in range(len(perguntas)):\n",
    "    resposta = input(perguntas[i])\n",
    "    if resposta != \"sim\" and resposta != \"não\" :\n",
    "        break\n",
    "    if resposta == \"sim\":\n",
    "        resposta_sim = resposta_sim + 1 \n",
    "\n",
    "if resposta_sim == 2:\n",
    "    print ('suspeito')\n",
    "elif resposta_sim == 3 or resposta_sim == 4:\n",
    "    print ('cumplice') \n",
    "elif resposta_sim == 5:\n",
    "    print ('assassino')\n",
    "else:\n",
    "    print ('inocente')"
   ]
  }
 ],
 "metadata": {
  "kernelspec": {
   "display_name": "Python 3",
   "language": "python",
   "name": "python3"
  },
  "language_info": {
   "codemirror_mode": {
    "name": "ipython",
    "version": 3
   },
   "file_extension": ".py",
   "mimetype": "text/x-python",
   "name": "python",
   "nbconvert_exporter": "python",
   "pygments_lexer": "ipython3",
   "version": "3.12.4"
  }
 },
 "nbformat": 4,
 "nbformat_minor": 2
}
