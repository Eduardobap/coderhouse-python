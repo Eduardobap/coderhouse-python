{
 "cells": [
  {
   "cell_type": "code",
   "execution_count": 16,
   "metadata": {},
   "outputs": [
    {
     "name": "stdout",
     "output_type": "stream",
     "text": [
      "Tabela1 extraída com sucesso!\n",
      "Tabela2 extraída com sucesso!\n",
      "Tabela3 extraída com sucesso!\n"
     ]
    }
   ],
   "source": [
    "import requests\n",
    "import pandas as pd\n",
    "from plyer import notification \n",
    "from datetime import datetime\n",
    "\n",
    "urls = {\n",
    "    'Tabela1': 'https://brasilapi.com.br/api/fipe/marcas/v1/carros',\n",
    "    'Tabela2': 'https://brasilapi.com.br/api/fipe/preco/v1/002112-1',\n",
    "    'Tabela3': 'https://brasilapi.com.br/api/fipe/tabelas/v1'\n",
    "}\n",
    "\n",
    "tabelas = {}\n",
    "\n",
    "for nome, url in urls.items():\n",
    "    \n",
    "    response = requests.get(url)\n",
    "    \n",
    "    if response.status_code == 200:\n",
    "        dados_json = response.json()\n",
    "        tabelas[nome] = pd.DataFrame(dados_json)\n",
    "        print(f\"{nome} extraída com sucesso!\")\n",
    "        data_hora_atual = datetime.now().strftime('%d-%m-%y %H:%M:%S')\n",
    "        \n",
    "        notification.notify(\n",
    "            title=f\"API {nome} - Sucesso!\",\n",
    "            message=f\"{nome} extraída com sucesso.\\n{data_hora_atual}\",\n",
    "            timeout=2\n",
    "        )\n",
    "    else:\n",
    "        print(f\"Erro ao acessar {nome}: {response.status_code}\")\n",
    "        data_hora_atual = datetime.now().strftime('%d-%m-%y %H:%M:%S')\n",
    "        \n",
    "        notification.notify(\n",
    "            title=f\"API {nome} - Erro!\",\n",
    "            message=f\"Erro ao acessar {nome}: {response.status_code}\\n{data_hora_atual}\",\n",
    "            timeout=2\n",
    "        )\n"
   ]
  },
  {
   "cell_type": "code",
   "execution_count": 15,
   "metadata": {},
   "outputs": [
    {
     "name": "stdout",
     "output_type": "stream",
     "text": [
      "Tabela1 extraída com sucesso!\n",
      "Tabela2 extraída com sucesso!\n",
      "Tabela3 extraída com sucesso!\n"
     ]
    }
   ],
   "source": [
    "import requests\n",
    "import pandas as pd\n",
    "from plyer import notification  # Para criar notificações no sistema\n",
    "from datetime import datetime\n",
    "\n",
    "# Função de alerta personalizada\n",
    "def alerta(nivel, etapa):\n",
    "    if nivel == 1:\n",
    "        titulo_notificacao = 'Sucesso - Alerta Baixo'\n",
    "    elif nivel == 2:\n",
    "        titulo_notificacao = 'Erro Grave - Alerta Médio'\n",
    "    elif nivel == 3:\n",
    "        titulo_notificacao = 'Erro Muito Grave - Alerta Alto'\n",
    "    else:\n",
    "        titulo_notificacao = 'Alerta Desconhecido'\n",
    "\n",
    "    nome_arquivo = \"Script de Extração de APIs\"\n",
    "\n",
    "    # Captura a data e hora atual\n",
    "    data_hora_atual = datetime.now().strftime('%d-%m-%y %H:%M:%S')\n",
    "\n",
    "    # Mensagem da notificação\n",
    "    msg_notificacao = f\"Base: {nome_arquivo}\\nEtapa: {etapa}\\n{data_hora_atual}\"\n",
    "\n",
    "    # Notificação no sistema\n",
    "    notification.notify(\n",
    "        title=titulo_notificacao,\n",
    "        message=msg_notificacao,\n",
    "        app_name='Extrator de APIs',\n",
    "        timeout=10\n",
    "    )\n",
    "\n",
    "# URLs dos diferentes endpoints\n",
    "urls = {\n",
    "    'Tabela1': 'https://brasilapi.com.br/api/fipe/marcas/v1/carros',\n",
    "    'Tabela2': 'https://brasilapi.com.br/api/fipe/preco/v1/004516-0', \n",
    "    'Tabela3': 'https://brasilapi.com.br/api/fipe/tabelas/v1'\n",
    "}\n",
    "\n",
    "# Dicionário para armazenar as tabelas\n",
    "tabelas = {}\n",
    "\n",
    "for nome, url in urls.items():\n",
    "    # Requisição para cada tabela\n",
    "    response = requests.get(url)\n",
    "    \n",
    "    if response.status_code == 200:\n",
    "        dados_json = response.json()\n",
    "        # Criar DataFrame e armazenar no dicionário\n",
    "        tabelas[nome] = pd.DataFrame(dados_json)\n",
    "        print(f\"{nome} extraída com sucesso!\")\n",
    "        \n",
    "        # Envia alerta de sucesso (nível 1) para código 200\n",
    "        alerta(1, f\"{nome} extraída com sucesso.\")\n",
    "        \n",
    "    elif 300 <= response.status_code < 500:\n",
    "        print(f\"Erro grave ao acessar {nome}: {response.status_code}\")\n",
    "        \n",
    "        # Envia alerta de erro grave (nível 2) para código 3xx ou 4xx\n",
    "        alerta(2, f\"Erro grave ao acessar a {nome}: {response.status_code}\")\n",
    "    \n",
    "    elif response.status_code >= 500:\n",
    "        print(f\"Erro muito grave no servidor ao acessar {nome}: {response.status_code}\")\n",
    "        \n",
    "        # Envia alerta de erro muito grave (nível 3) para código 5xx\n",
    "        alerta(3, f\"Erro interno grave no servidor ao acessar a {nome}: {response.status_code}\")\n",
    "\n",
    "        \n"
   ]
  },
  {
   "cell_type": "code",
   "execution_count": 11,
   "metadata": {},
   "outputs": [
    {
     "name": "stdout",
     "output_type": "stream",
     "text": [
      "          nome valor\n",
      "0        Acura     1\n",
      "1       Agrale     2\n",
      "2   Alfa Romeo     3\n",
      "3       AM Gen     4\n",
      "4  Asia Motors     5\n"
     ]
    }
   ],
   "source": [
    "tabela1 = tabelas['tabela1']\n",
    "print(tabela1.head())"
   ]
  },
  {
   "cell_type": "code",
   "execution_count": 15,
   "metadata": {},
   "outputs": [
    {
     "name": "stdout",
     "output_type": "stream",
     "text": [
      "           valor   marca                                    modelo  anoModelo  \\\n",
      "0  R$ 181.601,00  Toyota  Corolla ALTIS/A.Premiu. 2.0 Flex 16V Aut      32000   \n",
      "1  R$ 171.104,00  Toyota  Corolla ALTIS/A.Premiu. 2.0 Flex 16V Aut       2024   \n",
      "2  R$ 147.227,00  Toyota  Corolla ALTIS/A.Premiu. 2.0 Flex 16V Aut       2023   \n",
      "3  R$ 139.391,00  Toyota  Corolla ALTIS/A.Premiu. 2.0 Flex 16V Aut       2022   \n",
      "4  R$ 134.181,00  Toyota  Corolla ALTIS/A.Premiu. 2.0 Flex 16V Aut       2021   \n",
      "\n",
      "  combustivel codigoFipe      mesReferencia  tipoVeiculo siglaCombustivel  \\\n",
      "0    Gasolina   002112-1  setembro de 2024             1                G   \n",
      "1    Gasolina   002112-1  setembro de 2024             1                G   \n",
      "2    Gasolina   002112-1  setembro de 2024             1                G   \n",
      "3    Gasolina   002112-1  setembro de 2024             1                G   \n",
      "4    Gasolina   002112-1  setembro de 2024             1                G   \n",
      "\n",
      "                                dataConsulta  \n",
      "0  terça-feira, 17 de setembro de 2024 20:07  \n",
      "1  terça-feira, 17 de setembro de 2024 20:07  \n",
      "2  terça-feira, 17 de setembro de 2024 20:07  \n",
      "3  terça-feira, 17 de setembro de 2024 20:07  \n",
      "4  terça-feira, 17 de setembro de 2024 20:07  \n"
     ]
    }
   ],
   "source": [
    "tabela2 = tabelas['tabela2']\n",
    "print(tabela2.head())"
   ]
  },
  {
   "cell_type": "code",
   "execution_count": 13,
   "metadata": {},
   "outputs": [
    {
     "name": "stdout",
     "output_type": "stream",
     "text": [
      "   codigo             mes\n",
      "0     313  setembro/2024 \n",
      "1     312    agosto/2024 \n",
      "2     311     julho/2024 \n",
      "3     310     junho/2024 \n",
      "4     309      maio/2024 \n"
     ]
    }
   ],
   "source": [
    "tabela3 = tabelas['tabela3']\n",
    "print(tabela3.head())"
   ]
  }
 ],
 "metadata": {
  "kernelspec": {
   "display_name": "base",
   "language": "python",
   "name": "python3"
  },
  "language_info": {
   "codemirror_mode": {
    "name": "ipython",
    "version": 3
   },
   "file_extension": ".py",
   "mimetype": "text/x-python",
   "name": "python",
   "nbconvert_exporter": "python",
   "pygments_lexer": "ipython3",
   "version": "3.11.5"
  }
 },
 "nbformat": 4,
 "nbformat_minor": 2
}
