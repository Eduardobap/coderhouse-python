{
 "cells": [
  {
   "cell_type": "code",
   "execution_count": 6,
   "metadata": {},
   "outputs": [
    {
     "name": "stdout",
     "output_type": "stream",
     "text": [
      "Tabela1 extraída com sucesso!\n",
      "CEP extraído de Tabela1: 22250911\n",
      "Sigla do estado extraída de Tabela1: RJ\n",
      "URL de Tabela2 atualizada: https://brasilapi.com.br/api/cep/v1/22250911\n",
      "URL de Tabela3 atualizada: https://brasilapi.com.br/api/ibge/uf/v1/RJ\n",
      "Tabela2 extraída com sucesso!\n",
      "Tabela3 extraída com sucesso!\n"
     ]
    }
   ],
   "source": [
    "import requests\n",
    "import pandas as pd\n",
    "from plyer import notification  \n",
    "from datetime import datetime\n",
    "\n",
    "def alerta(nivel, etapa):\n",
    "    if nivel == 1:\n",
    "        titulo_notificacao = 'Sucesso - Alerta Baixo'\n",
    "    elif nivel == 2:\n",
    "        titulo_notificacao = 'Erro Grave - Alerta Médio'\n",
    "    elif nivel == 3:\n",
    "        titulo_notificacao = 'Erro Muito Grave - Alerta Alto'\n",
    "    else:\n",
    "        titulo_notificacao = 'Alerta Desconhecido'\n",
    "\n",
    "    nome_arquivo = \"Script de Extração de APIs\"\n",
    "\n",
    "    data_hora_atual = datetime.now().strftime('%d-%m-%y %H:%M:%S')\n",
    "\n",
    "    msg_notificacao = f\"Base: {nome_arquivo}\\nEtapa: {etapa}\\n{data_hora_atual}\"\n",
    "\n",
    "    # Notificação no sistema\n",
    "    notification.notify(\n",
    "        title=titulo_notificacao,\n",
    "        message=msg_notificacao,\n",
    "        app_name='Extrator de APIs',\n",
    "        timeout=10\n",
    "    )\n",
    "\n",
    "\n",
    "# URLs dos diferentes endpoints\n",
    "urls = {\n",
    "    'Tabela1': 'https://brasilapi.com.br/api/cnpj/v1/30306294000145', \n",
    "    'Tabela2': 'https://brasilapi.com.br/api/cep/v1/{CEP}', \n",
    "    'Tabela3': 'https://brasilapi.com.br/api/ibge/uf/v1/{Sigla_UF}'\n",
    "}\n",
    "\n",
    "# Dicionário para armazenar as tabelas\n",
    "tabelas = {}\n",
    "\n",
    "for nome, url in urls.items():\n",
    "    # Requisição para cada tabela\n",
    "    response = requests.get(url)\n",
    "    \n",
    "    if response.status_code == 200:\n",
    "        dados_json = response.json()\n",
    "        dados_list = [dados_json]\n",
    "        \n",
    "        # Criar DataFrame e armazenar no dicionário\n",
    "        tabelas[nome] = pd.DataFrame(dados_list)\n",
    "        print(f\"{nome} extraída com sucesso!\")\n",
    "        \n",
    "        # Envia alerta de sucesso (nível 1) para código 200\n",
    "        alerta(1, f\"{nome} extraída com sucesso.\")\n",
    "        \n",
    "        # Extração do CEP e da Sigla_UF de Tabela1 para usar em Tabela2 e Tabela3\n",
    "        if nome == 'Tabela1':\n",
    "            CEP = dados_json['cep']  # Extrai o CEP de Tabela1\n",
    "            Sigla_UF = dados_json['uf']  # Extrai o estado (sigla UF) de Tabela1\n",
    "            print(f\"CEP extraído de Tabela1: {CEP}\")\n",
    "            print(f\"Sigla do estado extraída de Tabela1: {Sigla_UF}\")\n",
    "            \n",
    "            # Atualiza a URL de Tabela2 com o CEP extraído\n",
    "            urls['Tabela2'] = urls['Tabela2'].format(CEP=CEP)\n",
    "            print(f\"URL de Tabela2 atualizada: {urls['Tabela2']}\")\n",
    "            \n",
    "            # Atualiza a URL de Tabela3 com a sigla do estado extraída\n",
    "            urls['Tabela3'] = urls['Tabela3'].format(Sigla_UF=Sigla_UF)\n",
    "            print(f\"URL de Tabela3 atualizada: {urls['Tabela3']}\")\n",
    "        \n",
    "    elif 300 <= response.status_code < 500:\n",
    "        print(f\"Erro grave ao acessar {nome}: {response.status_code}\")\n",
    "        \n",
    "        # Envia alerta de erro grave (nível 2) para código 3xx ou 4xx\n",
    "        alerta(2, f\"Erro grave ao acessar a {nome}: {response.status_code}\")\n",
    "    \n",
    "    elif response.status_code >= 500:\n",
    "        print(f\"Erro muito grave no servidor ao acessar {nome}: {response.status_code}\")\n",
    "        \n",
    "        # Envia alerta de erro muito grave (nível 3) para código 5xx\n",
    "        alerta(3, f\"Erro interno grave no servidor ao acessar a {nome}: {response.status_code}\")\n"
   ]
  },
  {
   "cell_type": "code",
   "execution_count": 7,
   "metadata": {},
   "outputs": [
    {
     "name": "stdout",
     "output_type": "stream",
     "text": [
      "   uf       cep                                                qsa  \\\n",
      "0  RJ  22250911  [{'pais': None, 'nome_socio': 'RENATO MONTEIRO...   \n",
      "\n",
      "             cnpj  pais email   porte    bairro numero      ddd_fax  ...  \\\n",
      "0  30306294000145  None        DEMAIS  BOTAFOGO  00501  02125149600  ...   \n",
      "\n",
      "  codigo_natureza_juridica data_exclusao_do_simples  \\\n",
      "0                     2046                     None   \n",
      "\n",
      "   motivo_situacao_cadastral ente_federativo_responsavel  \\\n",
      "0                          0                               \n",
      "\n",
      "  identificador_matriz_filial  qualificacao_do_responsavel  \\\n",
      "0                           1                           10   \n",
      "\n",
      "  descricao_situacao_cadastral descricao_tipo_de_logradouro  \\\n",
      "0                        ATIVA                        PRAIA   \n",
      "\n",
      "   descricao_motivo_situacao_cadastral descricao_identificador_matriz_filial  \n",
      "0                           SEM MOTIVO                                MATRIZ  \n",
      "\n",
      "[1 rows x 48 columns]\n"
     ]
    }
   ],
   "source": [
    "tabela1 = tabelas['Tabela1']\n",
    "print(tabela1.head())"
   ]
  },
  {
   "cell_type": "code",
   "execution_count": 8,
   "metadata": {},
   "outputs": [
    {
     "name": "stdout",
     "output_type": "stream",
     "text": [
      "        cep state            city neighborhood              street   service\n",
      "0  22250911    RJ  Rio de Janeiro     Botafogo  Praia Botafogo 501  open-cep\n"
     ]
    }
   ],
   "source": [
    "tabela2 = tabelas['Tabela2']\n",
    "print(tabela2.head())"
   ]
  },
  {
   "cell_type": "code",
   "execution_count": 9,
   "metadata": {},
   "outputs": [
    {
     "name": "stdout",
     "output_type": "stream",
     "text": [
      "   id sigla            nome                                       regiao\n",
      "0  33    RJ  Rio de Janeiro  {'id': 3, 'sigla': 'SE', 'nome': 'Sudeste'}\n"
     ]
    }
   ],
   "source": [
    "tabela3 = tabelas['Tabela3']\n",
    "print(tabela3)"
   ]
  }
 ],
 "metadata": {
  "kernelspec": {
   "display_name": "base",
   "language": "python",
   "name": "python3"
  },
  "language_info": {
   "codemirror_mode": {
    "name": "ipython",
    "version": 3
   },
   "file_extension": ".py",
   "mimetype": "text/x-python",
   "name": "python",
   "nbconvert_exporter": "python",
   "pygments_lexer": "ipython3",
   "version": "3.11.5"
  }
 },
 "nbformat": 4,
 "nbformat_minor": 2
}
