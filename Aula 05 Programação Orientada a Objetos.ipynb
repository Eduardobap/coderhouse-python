{
 "cells": [
  {
   "cell_type": "markdown",
   "metadata": {},
   "source": [
    "# Programação Orientada a Objetos (POO)\n",
    "\n",
    "## Como é a vida sem OO...\n",
    "\n",
    "Imagine, por exemplo, que você está escrevendo um programa para exibir informações sobre formas geométricas na tela do computador. Para exibir a área de cada forma geométrica, suponha que exista uma função que detecta qual é a forma e outra que realiza o cálculo:"
   ]
  },
  {
   "cell_type": "code",
   "execution_count": 1,
   "metadata": {},
   "outputs": [
    {
     "name": "stdout",
     "output_type": "stream",
     "text": [
      "Area do circulo\n",
      "Area do quadrado\n"
     ]
    }
   ],
   "source": [
    "formas_geometricas = [\"circulo\", \"quadrado\"]\n",
    "\n",
    "def circulo(forma):\n",
    "    return forma == \"circulo\"\n",
    "\n",
    "def quadrado(forma):\n",
    "    return forma == \"quadrado\"\n",
    "\n",
    "def area_circulo():\n",
    "    print(\"Area do circulo\")\n",
    "\n",
    "def area_quadrado():\n",
    "    print(\"Area do quadrado\")\n",
    "\n",
    "for forma_geom in formas_geometricas:\n",
    "    if circulo(forma_geom):\n",
    "        area_circulo()\n",
    "    elif quadrado(forma_geom):\n",
    "        area_quadrado()"
   ]
  },
  {
   "cell_type": "markdown",
   "metadata": {},
   "source": [
    "Se precisarmos estender o programa para exibir outros tipos de formas geométricas como triângulos, retangulos e elipses, o nosso código fatalmente ficaria assim:"
   ]
  },
  {
   "cell_type": "code",
   "execution_count": null,
   "metadata": {},
   "outputs": [],
   "source": [
    "formas_geometricas.append(\"triangulo\")\n",
    "formas_geometricas.append(\"retangulo\")\n",
    "formas_geometricas.append(\"elipse\")\n",
    "\n",
    "def triangulo(forma):\n",
    "    return forma == \"triangulo\"\n",
    "\n",
    "def retangulo(forma):\n",
    "    return forma == \"retangulo\" \n",
    "\n",
    "def elipse(forma):\n",
    "    return forma == \"elipse\"\n",
    "\n",
    "def area_triangulo():\n",
    "    print(\"Area do triangulo\")\n",
    "\n",
    "def area_retangulo():\n",
    "    print(\"Area do retangulo\")  \n",
    "\n",
    "def area_elipse():\n",
    "    print(\"Area da elipse\")\n",
    "\n",
    "for forma_geom in formas_geometricas:\n",
    "    if circulo(forma_geom):\n",
    "        area_circulo()\n",
    "    elif quadrado(forma_geom):\n",
    "        area_quadrado()\n",
    "    elif triangulo(forma_geom):\n",
    "        area_triangulo()\n",
    "    elif retangulo(forma_geom):\n",
    "        area_retangulo()\n",
    "    elif elipse(forma_geom):\n",
    "        area_elipse()"
   ]
  },
  {
   "cell_type": "markdown",
   "metadata": {},
   "source": [
    "Toda vez que o programa tem que exibir um novo tipo de forma geométrica, precisamos fazer duas coisas: criar a funcionalidade para exibir a nova forma geométrica, e modificar o programa principal (que percorre a lista de formas e as exibe na tela), alterando os comandos if e elif para adicionar uma nova forma."
   ]
  },
  {
   "cell_type": "markdown",
   "metadata": {},
   "source": [
    "Seria muito mais vantajoso ter uma forma de abstrair o problema de identificar qual a forma geométrica e assim realizar o cálculo da área corretamente, mais ou menos assim:"
   ]
  },
  {
   "cell_type": "code",
   "execution_count": null,
   "metadata": {},
   "outputs": [],
   "source": [
    "for forma_geom in formas_geometricas:\n",
    "    forma_geom.area()"
   ]
  },
  {
   "cell_type": "markdown",
   "metadata": {},
   "source": [
    "Com Orientação a Objetos isso é perfeitamente possível! Vamos entender os quatro pilares desse novo jeito de solucionar problemas com programação.\n",
    "\n",
    "## Primeiro Pilar: Abstração \n",
    "\n",
    "Por meio dos objetos podemos armazenar um estado e comportamentos associados a esse estado. Objetos possuem um tipo, uma representação interna (campos), e provêm uma interface (métodos). As informações (campos) de um objeto são chamadas de atributos do objeto, e as operações realizadas sobre o objeto são chamadas métodos do objeto/classe. "
   ]
  },
  {
   "cell_type": "code",
   "execution_count": 7,
   "metadata": {},
   "outputs": [
    {
     "name": "stdout",
     "output_type": "stream",
     "text": [
      "Circulo de raio 5\n",
      "78.539816325\n",
      "Circulo de raio 10\n",
      "314.1592653\n"
     ]
    }
   ],
   "source": [
    "# exemplo\n",
    "class Circulo:\n",
    "    def __init__(self, raio):\n",
    "        self.raio = raio\n",
    "    \n",
    "    def area(self):\n",
    "        pi = 3.141592653\n",
    "        return pi * (self.raio ** 2)\n",
    "    \n",
    "    def imprime(self):\n",
    "        print(\"Circulo de raio\", self.raio)\n",
    "\n",
    "circulo = Circulo(5) # circulo = Circulo(raio=5)\n",
    "circulo.imprime()\n",
    "print(circulo.area())\n",
    "\n",
    "circulo2 = Circulo(10)\n",
    "circulo2.imprime()\n",
    "print(circulo2.area())\n"
   ]
  },
  {
   "cell_type": "markdown",
   "metadata": {},
   "source": [
    "## Segundo Pilar: Herança\n",
    "\n",
    "Com a solução anterior ainda precisamos fazer if/else pra entender de qual forma geométrica estamos falando. Para abstrair ainda mais as características em comum, vamos criar uma classe superior em hierarquia que junte tudo isso, e vamos fazer as demais herdarem essas características. "
   ]
  },
  {
   "cell_type": "code",
   "execution_count": 13,
   "metadata": {},
   "outputs": [
    {
     "name": "stdout",
     "output_type": "stream",
     "text": [
      "Circulo de raio 5\n",
      "78.539816325\n",
      "Circulo de raio 10\n",
      "314.1592653\n",
      "25\n"
     ]
    }
   ],
   "source": [
    "# exemplo\n",
    "class FormaGeometrica():\n",
    "    def area(self):\n",
    "        pass\n",
    "    def imprime(self):\n",
    "        pass\n",
    "\n",
    "class Circulo(FormaGeometrica):\n",
    "    def __init__(self, raio):\n",
    "        self.raio = raio\n",
    "    \n",
    "    def area(self):\n",
    "        pi = 3.141592653\n",
    "        return pi * (self.raio ** 2)\n",
    "    \n",
    "    def imprime(self):\n",
    "        print(f\"Circulo de raio {self.raio}\")\n",
    "\n",
    "circulo = Circulo(5) # circulo = Circulo(raio=5)\n",
    "circulo.imprime()\n",
    "print(circulo.area())\n",
    "\n",
    "circulo2 = Circulo(10)\n",
    "circulo2.imprime()\n",
    "print(circulo2.area())\n",
    "\n",
    "class Quadrado(FormaGeometrica):\n",
    "    def __init__(self, lado):\n",
    "        self.lado = lado\n",
    "    \n",
    "    def area(self):\n",
    "        return self.lado ** 2\n",
    "    \n",
    "    def imprime(self):\n",
    "        print(f\"Quadrado de lado {self.lado}\")\n",
    "\n",
    "quadrado = Quadrado(5) # quadrado = Quadrado(lado=5)   \n",
    "print(quadrado.area())     "
   ]
  },
  {
   "cell_type": "markdown",
   "metadata": {},
   "source": [
    "## Terceiro Pilar: Encapsulamento\n",
    "\n",
    "Há uma convenção de que os dados de atributos não deveriam ser acessados diretamente, como no exemplo que imprimimos o lado do quadrado apenas chamando `obj_quadrado.lado`. Em Python, existe uma convenção de que dados ou métodos cujo nome começa com __ (dois underscores) não deveriam ser acessados fora da classe, como ilustrado no exemplo abaixo. "
   ]
  },
  {
   "cell_type": "code",
   "execution_count": null,
   "metadata": {},
   "outputs": [],
   "source": [
    "# exemplo\n",
    "class Veiculo:\n",
    "    def __init__(self, marca, modelo):\n",
    "        self.marca = marca\n",
    "        self.modelo = modelo\n",
    "    \n",
    "    def mostrar_detalhes(self):\n",
    "        print(self.marca, self.modelo)\n",
    "\n",
    "carro = Veiculo(\"Volkswagen\", \"Golf\")\n",
    "carro.marca = \"Fiat\"\n",
    "carro.modelo = \"Palio\""
   ]
  },
  {
   "cell_type": "markdown",
   "metadata": {},
   "source": [
    "Para garantir que certas variáveis de uma classe não sejam alteradas basta usar o decorador @property, que nos permite restringir acesso a variáveis de uma classe. "
   ]
  },
  {
   "cell_type": "code",
   "execution_count": null,
   "metadata": {},
   "outputs": [],
   "source": [
    "# exemplo"
   ]
  },
  {
   "cell_type": "markdown",
   "metadata": {},
   "source": [
    "## Quarto Pilar: Polimorfismo\n",
    "\n",
    "Agora vamos abstrair ainda mais o que há em comum entre duas classes para ter comportamentos diferentes com o mesmo tipo. Reutilizando o último exemplo do veículo, teríamos o seguinte para Carro e Moto: "
   ]
  },
  {
   "cell_type": "code",
   "execution_count": null,
   "metadata": {},
   "outputs": [],
   "source": [
    "# exemplo"
   ]
  },
  {
   "cell_type": "markdown",
   "metadata": {},
   "source": [
    "Como ficaria para o exemplo das formas geométricas ?"
   ]
  },
  {
   "cell_type": "code",
   "execution_count": null,
   "metadata": {},
   "outputs": [],
   "source": [
    "# solução"
   ]
  },
  {
   "cell_type": "code",
   "execution_count": null,
   "metadata": {},
   "outputs": [],
   "source": [
    "# extra: uso de bibliotecas"
   ]
  },
  {
   "cell_type": "code",
   "execution_count": 16,
   "metadata": {},
   "outputs": [
    {
     "name": "stdout",
     "output_type": "stream",
     "text": [
      "Retangulo de altura 5 e largura 10 tem area 50 e perimetro 30\n"
     ]
    }
   ],
   "source": [
    "# Questão 1\n",
    "class Retangulo:\n",
    "    def __init__(self, altura, largura):\n",
    "        self.altura = altura\n",
    "        self.largura = largura\n",
    "    \n",
    "    def area(self):\n",
    "        return self.altura * self.largura\n",
    "\n",
    "    def perimetro(self):\n",
    "        return 2 * (self.altura + self.largura)\n",
    "\n",
    "    def imprime(self):\n",
    "        print(f\"Retangulo de altura {self.altura} e largura {self.largura} tem area {self.area()} e perimetro {self.perimetro()}\")\n",
    "\n",
    "retangulo = Retangulo(5, 10)\n",
    "retangulo.imprime()"
   ]
  },
  {
   "cell_type": "code",
   "execution_count": 17,
   "metadata": {},
   "outputs": [
    {
     "name": "stdout",
     "output_type": "stream",
     "text": [
      "Retangulo de altura 5 e largura 10 tem area 50 e perimetro 30\n"
     ]
    }
   ],
   "source": [
    "# Questão 2\n",
    "\n",
    "from geomatria import retangulo\n",
    "\n",
    "retangulo = Retangulo(5, 10)\n",
    "retangulo.imprime()"
   ]
  },
  {
   "cell_type": "code",
   "execution_count": 18,
   "metadata": {},
   "outputs": [
    {
     "name": "stdout",
     "output_type": "stream",
     "text": [
      "6000\n",
      "4000\n"
     ]
    }
   ],
   "source": [
    "# Questão 3\n",
    "\n",
    "class Conta:\n",
    "    def __init__(self, saldo, titular):\n",
    "        self.saldo = saldo\n",
    "        self.titular = titular\n",
    "    \n",
    "    def depositar(self, valor):\n",
    "        self.saldo += valor\n",
    "\n",
    "    def sacar(self, valor):\n",
    "        self.saldo -= valor\n",
    "\n",
    "conta_do_ramon = Conta(5000, \"Ramon\")\n",
    "\n",
    "conta_do_ramon.depositar(1000)\n",
    "\n",
    "print(f\"Saldo antes do saque: {conta_do_ramon.saldo}\")\t\n",
    "\n",
    "conta_do_ramon.sacar(2000)\n",
    "\n",
    "print(f\"Saldo depois do saque: {conta_do_ramon.saldo}\")\n",
    "\n",
    "\n",
    "\n",
    "        "
   ]
  },
  {
   "cell_type": "code",
   "execution_count": null,
   "metadata": {},
   "outputs": [],
   "source": [
    "class Conta:\n",
    "    def __init__(self, saldo, titular):\n",
    "        self.saldo = saldo\n",
    "        self.titular = titular\n",
    "    property\n",
    "    def extrato(self):\n",
    "    \n",
    "    def depositar(self, valor):\n",
    "        self.saldo += valor\n",
    "\n",
    "    def sacar(self, valor):\n",
    "        self.saldo -= valor\n",
    "\n",
    "conta_do_ramon = Conta(5000, \"Ramon\")\n",
    "\n",
    "conta_do_ramon.depositar(1000)\n",
    "\n",
    "print(f\"Saldo antes do saque: {conta_do_ramon.saldo}\")\t\n",
    "\n",
    "conta_do_ramon.sacar(2000)\n",
    "\n",
    "print(f\"Saldo depois do saque: {conta_do_ramon.saldo}\")"
   ]
  }
 ],
 "metadata": {
  "kernelspec": {
   "display_name": "Python 3",
   "language": "python",
   "name": "python3"
  },
  "language_info": {
   "codemirror_mode": {
    "name": "ipython",
    "version": 3
   },
   "file_extension": ".py",
   "mimetype": "text/x-python",
   "name": "python",
   "nbconvert_exporter": "python",
   "pygments_lexer": "ipython3",
   "version": "3.11.5"
  }
 },
 "nbformat": 4,
 "nbformat_minor": 2
}
