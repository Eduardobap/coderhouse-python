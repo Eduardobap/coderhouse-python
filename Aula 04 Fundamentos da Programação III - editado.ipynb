{
 "cells": [
  {
   "cell_type": "markdown",
   "metadata": {},
   "source": [
    "# Fundamentos da Programação III\n",
    "\n",
    "## Revisando a aula anterior..."
   ]
  },
  {
   "cell_type": "code",
   "execution_count": null,
   "metadata": {},
   "outputs": [],
   "source": [
    "horario = input(\"Digite o turno (M-matutino ou V-Vespertino ou N- Noturno):\")\n",
    "\n",
    "turnos = (\"M\", \"m\", \"V\", \"v\", \"N\", \"n\")\n",
    "\n",
    "while horario in turnos:\n",
    "    if horario == \"M\" or horario == \"m\":\n",
    "        print(\"Bom dia!\")\n",
    "    elif horario == \"V\" or horario == \"v\":\n",
    "        print(\"Boa tarde!\")\n",
    "    elif horario == \"N\" or horario == \"n\":\n",
    "        print(\"Boa noite!\")\n",
    "    else:\n",
    "    horario = input(\"Digite o turno (M-matutino ou V-Vespertino ou N- Noturno):\")\n",
    "\n",
    "print(\"Valor inválido!\")"
   ]
  },
  {
   "cell_type": "markdown",
   "metadata": {},
   "source": [
    "## Modularizando o código com funções\n",
    "\n",
    "Como poderíamos colocar o código acima em uma função?"
   ]
  },
  {
   "cell_type": "code",
   "execution_count": 4,
   "metadata": {},
   "outputs": [
    {
     "name": "stdout",
     "output_type": "stream",
     "text": [
      "Boa noite!\n",
      "Boa noite!\n",
      "Bom dia!\n",
      "Bom dia!\n",
      "Boa tarde!\n"
     ]
    }
   ],
   "source": [
    "# solução\n",
    "\n",
    "def periodo(horario):\n",
    "    if horario == \"M\" or horario == \"m\":\n",
    "        print(\"Bom dia!\")\n",
    "    elif horario == \"V\" or horario == \"v\":\n",
    "        print(\"Boa tarde!\")\n",
    "    elif horario == \"N\" or horario == \"n\":\n",
    "        print(\"Boa noite!\")\n",
    "    else:\n",
    "        print(\"Valor inválido!\")\n",
    "    \n",
    "horario = input(\"Digite o turno (M-matutino ou V-Vespertino ou N- Noturno):\")\n",
    "\n",
    "turnos = (\"M\", \"m\", \"V\", \"v\", \"N\", \"n\")\n",
    "\n",
    "while horario in turnos:\n",
    "    periodo(horario)\n",
    "    horario = input(\"Digite o turno (M-matutino ou V-Vespertino ou N- Noturno):\")\n",
    "\n",
    "periodo(\"N\")\n",
    "\n",
    "    "
   ]
  },
  {
   "cell_type": "markdown",
   "metadata": {},
   "source": [
    "Faça um programa com uma função chamada `somaImposto`. A função possui dois parâmetros formais: `taxaImposto`, que é a quantia de imposto sobre vendas expressa em porcentagem e `custo`, que é o custo de um item antes do imposto. A função \"altera\" o valor de custo para incluir o imposto sobre vendas."
   ]
  },
  {
   "cell_type": "code",
   "execution_count": 1,
   "metadata": {},
   "outputs": [
    {
     "name": "stdout",
     "output_type": "stream",
     "text": [
      "600.0\n"
     ]
    }
   ],
   "source": [
    "# solução\n",
    "def somaImposto(taxaImposto, custo):\n",
    "    return (taxaImposto * custo) + custo\n",
    "\n",
    "preco_final = somaImposto(0.2, 500)\n",
    "print(preco_final)"
   ]
  },
  {
   "cell_type": "markdown",
   "metadata": {},
   "source": [
    "Faça um Programa que pergunte quanto você ganha por hora e o número de horas trabalhadas no mês. Calcule e mostre o total do seu salário no referido mês, sabendo-se que pode ser descontados 11% para o Imposto de Renda, 8% para o INSS e 5% para o sindicato, sendo essas porcentagens variáveis. Então, faça um programa que nos dê:\n",
    "salário bruto.\n",
    "quanto pagou ao INSS.\n",
    "quanto pagou ao sindicato.\n",
    "o salário líquido.\n",
    "calcule os descontos e o salário líquido, conforme a tabela abaixo:\n",
    "\n",
    "``` \n",
    " - Salário Bruto : R$\n",
    " - IR (11%) : R$\n",
    " - INSS (8%) : R$\n",
    " - Sindicato (5%) : R$\n",
    " = Salário Liquido : R$\n",
    "```"
   ]
  },
  {
   "cell_type": "code",
   "execution_count": 4,
   "metadata": {},
   "outputs": [
    {
     "name": "stdout",
     "output_type": "stream",
     "text": [
      " - Salário Bruto: R$ 3200\n",
      " - IR (11%): R$ 352.0\n",
      " - INSS (8%): R$ 256.0\n",
      " - Sindicato (5%): R$ 320.0\n",
      " - Salário Liquido: R$ 2272.0\n"
     ]
    }
   ],
   "source": [
    "# solução\n",
    "def calc_salario_liquido(valor_hora, horas_trabalhadas_mes, ir=0.11, inss=0.08, sindicato=0.05):\n",
    "    salario_bruto = valor_hora * horas_trabalhadas_mes\n",
    "    print(\" - Salário Bruto: R$\", salario_bruto)\n",
    "\n",
    "    desconto_imposto_renda = salario_bruto * ir\n",
    "    print(\" - IR (11%): R$\", desconto_imposto_renda)\n",
    "\n",
    "    desconto_inss = salario_bruto * inss\n",
    "    print(\" - INSS (8%): R$\", desconto_inss)\n",
    "\n",
    "    desconto_sindicato = salario_bruto * sindicato\n",
    "    print(\" - Sindicato (5%): R$\", desconto_sindicato)\n",
    "\n",
    "    salario_liquido = salario_bruto - (desconto_imposto_renda + desconto_inss + desconto_sindicato)\n",
    "    print(\" - Salário Liquido: R$\", salario_liquido)\n",
    "\n",
    "calc_salario_liquido(20,160, sindicato=0.1)\n"
   ]
  },
  {
   "cell_type": "markdown",
   "metadata": {},
   "source": [
    "## Funções anônimas (lambda expressions)\n",
    "\n",
    "Escrita mais direta de funções simples, que podem ter seus parâmetros mapeados de uma lista ou dicionário."
   ]
  },
  {
   "cell_type": "code",
   "execution_count": 6,
   "metadata": {},
   "outputs": [
    {
     "name": "stdout",
     "output_type": "stream",
     "text": [
      "4\n",
      "4\n",
      "9\n"
     ]
    }
   ],
   "source": [
    "# exemplo\n",
    "def quadraro(x):\n",
    "    return x**2\n",
    "print(quadraro(2))\n",
    "\n",
    "quadrado_lambda = lambda x: x**2\n",
    "print(quadrado_lambda(2))\n",
    "print(quadrado_lambda(3))\n"
   ]
  },
  {
   "cell_type": "markdown",
   "metadata": {},
   "source": [
    "Dado uma lista de números, quais são pares?"
   ]
  },
  {
   "cell_type": "code",
   "execution_count": 9,
   "metadata": {},
   "outputs": [
    {
     "name": "stdout",
     "output_type": "stream",
     "text": [
      "[2, 4, 6, 8, 10]\n"
     ]
    }
   ],
   "source": [
    "# solução\n",
    "numeros = [1,2,3,4,5,6,7,8,9,10]\n",
    "\n",
    "eh_par_lambda = lambda x: x % 2 == 0\n",
    "\n",
    "numeros_pares = list(filter(eh_par_lambda, numeros))\n",
    "\n",
    "print(numeros_pares)"
   ]
  },
  {
   "cell_type": "code",
   "execution_count": 10,
   "metadata": {},
   "outputs": [
    {
     "name": "stdout",
     "output_type": "stream",
     "text": [
      "[2, 4, 6, 8, 10]\n"
     ]
    }
   ],
   "source": [
    "# solução 2\n",
    "numeros = [1,2,3,4,5,6,7,8,9,10]\n",
    "\n",
    "eh_par_lambda = lambda x: x % 2 == 0\n",
    "\n",
    "numeros_pares = list(filter(lambda x: x % 2 == 0, numeros))\n",
    "\n",
    "print(numeros_pares)"
   ]
  },
  {
   "cell_type": "markdown",
   "metadata": {},
   "source": [
    "Poderíamos mapear resultados em lista, otimizando a escrita para saída dos dados:"
   ]
  },
  {
   "cell_type": "code",
   "execution_count": 11,
   "metadata": {},
   "outputs": [
    {
     "name": "stdout",
     "output_type": "stream",
     "text": [
      "[1, 4, 9, 16, 25, 36, 49, 64, 81, 100]\n"
     ]
    }
   ],
   "source": [
    "# solução\n",
    "lista_quadrados = list(map(quadrado_lambda, numeros))\n",
    "print(lista_quadrados)"
   ]
  },
  {
   "cell_type": "markdown",
   "metadata": {},
   "source": [
    "Ainda é possível fazer ordenações em uma lista de maneira mais simples:"
   ]
  },
  {
   "cell_type": "code",
   "execution_count": 14,
   "metadata": {},
   "outputs": [
    {
     "name": "stdout",
     "output_type": "stream",
     "text": [
      "[{'nome': 'Notebook', 'preco': 12499, 'desconto': 0.15}, {'nome': 'Mouse', 'preco': 299, 'desconto': 0.1}, {'nome': 'Caneta', 'preco': 5.99, 'desconto': 0.05}]\n"
     ]
    }
   ],
   "source": [
    "# exemplo\n",
    "produtos = [{'nome': 'Notebook', 'preco': 12499, 'desconto': 0.15},\t \n",
    "            {'nome': 'Caneta', 'preco': 5.99, 'desconto': 0.05}, \n",
    "            {'nome': 'Mouse', 'preco': 299, 'desconto': 0.10}]\t\n",
    "\n",
    "produtos_ordenados = sorted(produtos, key=lambda x: x['desconto'], reverse=True) \n",
    "print(produtos_ordenados)\n",
    "\n",
    "# reverse=True ordena em ordem decrescente\n",
    "# reverse=False ordena em ordem crescente\n",
    "# key=lambda x: x['desconto'] ordena pelo desconto\n",
    "# key=lambda x: x['nome'] ordena pelo nome\n",
    "# key=lambda x: x['preco'] ordena pelo preço"
   ]
  },
  {
   "cell_type": "code",
   "execution_count": 16,
   "metadata": {},
   "outputs": [
    {
     "name": "stdout",
     "output_type": "stream",
     "text": [
      "True\n",
      "False\n"
     ]
    }
   ],
   "source": [
    "# Questão 1\n",
    "\n",
    "eh_multiplo_dez = lambda x: x % 10 == 0\n",
    "print(eh_multiplo_dez(20))\n",
    "print(eh_multiplo_dez(21))\n"
   ]
  },
  {
   "cell_type": "code",
   "execution_count": null,
   "metadata": {},
   "outputs": [],
   "source": [
    "# Questão 2\n",
    "def fatorial(n):\n",
    "    if n < 0:\n",
    "        return \n",
    "    elif n == 0 or n == 1:\n",
    "        return 1\n",
    "    else:\n",
    "        fatorial = 1\n",
    "        for i in range(2, n + 1):\n",
    "            fatorial *= i\n",
    "        return fatorial\n",
    "\n",
    "numero = int(input(\"Digite um número para calcular o fatorial: \"))\n",
    "\n",
    "resultado = fatorial(numero)\n",
    "\n",
    "print(f\"O fatorial de {numero} é {resultado}.\")"
   ]
  },
  {
   "cell_type": "code",
   "execution_count": 9,
   "metadata": {},
   "outputs": [
    {
     "name": "stdout",
     "output_type": "stream",
     "text": [
      "['João', 'Maria', 'Ana', 'Ana']\n"
     ]
    }
   ],
   "source": [
    "# Questão 3\n",
    "nomes = ['João Carlos', 'Maria Eduarda', 'Ana Rute', 'Ana Clara']\n",
    "\n",
    "def primeiro_nome(nome_completo):\n",
    "    primeiro = nome_completo.split(\" \")\n",
    "    return primeiro[0]\n",
    "\n",
    "lista_primeiro_nome = list(map(primeiro_nome, nomes))\n",
    "\n",
    "print(lista_primeiro_nome)"
   ]
  },
  {
   "cell_type": "code",
   "execution_count": 40,
   "metadata": {},
   "outputs": [
    {
     "name": "stdout",
     "output_type": "stream",
     "text": [
      "Wednesday\n"
     ]
    }
   ],
   "source": [
    "# Questão 4\n",
    "from datetime import datetime\n",
    "\n",
    "def dia_semana(data_formatada):\n",
    "    data = datetime.strptime(data_formatada, '%d/%m/%Y')\n",
    "    dia_da_semana = data.strftime('%A')\n",
    "    return dia_da_semana\n",
    "\n",
    "data_input = input(\"Qual a data? Formato dd/mm/aaaa\")\n",
    "dia_da_semana = dia_semana(data_input)\n",
    "print(dia_da_semana)\n"
   ]
  },
  {
   "cell_type": "markdown",
   "metadata": {},
   "source": [
    "## Começando o projeto final\n",
    "\n",
    "Seguir o exemplo dos slides para criar a função pedida:"
   ]
  },
  {
   "cell_type": "code",
   "execution_count": 15,
   "metadata": {},
   "outputs": [],
   "source": [
    "from plyer import notification\n",
    "\n",
    "notification.notify(\n",
    "    title='Título da notificação',\n",
    "    message='Mensagem da notificação',\n",
    "    app_name='Nome do aplicativo',\n",
    "    timeout=10)"
   ]
  },
  {
   "cell_type": "code",
   "execution_count": 36,
   "metadata": {},
   "outputs": [],
   "source": [
    "# solução - projeto\n",
    "\n",
    "import os\n",
    "from plyer import notification # type: ignore\n",
    "from datetime import datetime\n",
    "\n",
    "def alerta(nivel, etapa):\n",
    "    if nivel == 1:\n",
    "        titulo_notificacao = 'Alerta Baixo'\n",
    "    elif nivel == 2:\n",
    "        titulo_notificacao = 'Alerta Médio'\n",
    "    elif nivel == 3:\n",
    "        titulo_notificacao = 'Alerta Alto'\n",
    "    else:\n",
    "        titulo_notificacao = 'Alerta Desconhecido'\n",
    "\n",
    "    nome_arquivo = \"Aula 04 Fundamentos da Programação III.py\"\n",
    "\n",
    "    data_hora_atual = datetime.now().strftime('%Y-%m-%d %H:%M:%S')\n",
    "\n",
    "    msg_notificacao = f\"Base: {nome_arquivo}\\nEtapa: {etapa}\\n{data_hora_atual}\"\n",
    "\n",
    "    notification.notify(\n",
    "        title= titulo_notificacao,\n",
    "        message= msg_notificacao,\n",
    "        app_name='Nome do aplicativo',\n",
    "        timeout=10)\n",
    "\n",
    "alerta(2, 'Etapa Teste')\n",
    "   \n"
   ]
  }
 ],
 "metadata": {
  "kernelspec": {
   "display_name": "Python 3",
   "language": "python",
   "name": "python3"
  },
  "language_info": {
   "codemirror_mode": {
    "name": "ipython",
    "version": 3
   },
   "file_extension": ".py",
   "mimetype": "text/x-python",
   "name": "python",
   "nbconvert_exporter": "python",
   "pygments_lexer": "ipython3",
   "version": "3.11.5"
  }
 },
 "nbformat": 4,
 "nbformat_minor": 2
}
